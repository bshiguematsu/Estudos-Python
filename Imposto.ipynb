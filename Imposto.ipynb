{
 "cells": [
  {
   "cell_type": "code",
   "execution_count": 1,
   "metadata": {},
   "outputs": [],
   "source": [
    "import tkinter as tk\n",
    "from tkinter import Entry, Label, Button, ttk\n",
    "\n",
    "def calcular_imposto():\n",
    "    renda_mensal = float(entrada_renda.get())\n",
    "    \n",
    "    faixas_de_renda_mensal = [2112.00, 2826.65, 3751.05, 4664.68]\n",
    "    aliquotas_mensais = [0.075, 0.15, 0.225, 0.275]\n",
    "    deducao_por_faixas = [158.40, 370.40, 651.73, 884.96]\n",
    "\n",
    "    if renda_mensal <= faixas_de_renda_mensal[0]:\n",
    "        imposto_de_renda_mensal = 0\n",
    "    elif renda_mensal <= faixas_de_renda_mensal[1]:\n",
    "        imposto_de_renda_mensal = renda_mensal * aliquotas_mensais[0] - deducao_por_faixas[0]\n",
    "    elif renda_mensal <= faixas_de_renda_mensal[2]:\n",
    "        imposto_de_renda_mensal = renda_mensal * aliquotas_mensais[1] - deducao_por_faixas[1]\n",
    "    elif renda_mensal <= faixas_de_renda_mensal[3]:\n",
    "        imposto_de_renda_mensal = renda_mensal * aliquotas_mensais[2] - deducao_por_faixas[2]\n",
    "    else:\n",
    "        imposto_de_renda_mensal = renda_mensal * aliquotas_mensais[3] - deducao_por_faixas[3]\n",
    "\n",
    "    resultado.config(text=f'Seu imposto de renda mensal é: R$ {imposto_de_renda_mensal:.2f}')\n",
    "\n",
    "# Criar a janela principal\n",
    "janela = tk.Tk()\n",
    "janela.title(\"Calculadora de Imposto de Renda\")\n",
    "janela.geometry(\"300x200\")\n",
    "\n",
    "# Criar um rótulo para instruções\n",
    "rotulo_instrucao = Label(janela, text=\"Digite sua renda mensal:\")\n",
    "rotulo_instrucao.pack(pady=10)\n",
    "\n",
    "# Criar uma entrada para inserir a renda mensal\n",
    "entrada_renda = Entry(janela)\n",
    "entrada_renda.pack(pady=5)\n",
    "\n",
    "# Criar um botão com estilo\n",
    "botao_calcular = Button(janela, text=\"Calcular\", command=calcular_imposto, bg=\"#007BFF\", fg=\"white\", width=15)\n",
    "botao_calcular.pack(pady=10)\n",
    "\n",
    "# Criar um rótulo para exibir o resultado\n",
    "resultado = Label(janela, text=\"\", font=(\"Helvetica\", 12))\n",
    "resultado.pack()\n",
    "\n",
    "# Iniciar o loop da interface gráfica\n",
    "janela.mainloop()"
   ]
  },
  {
   "cell_type": "code",
   "execution_count": null,
   "metadata": {},
   "outputs": [],
   "source": []
  }
 ],
 "metadata": {
  "kernelspec": {
   "display_name": "Python 3",
   "language": "python",
   "name": "python3"
  },
  "language_info": {
   "codemirror_mode": {
    "name": "ipython",
    "version": 3
   },
   "file_extension": ".py",
   "mimetype": "text/x-python",
   "name": "python",
   "nbconvert_exporter": "python",
   "pygments_lexer": "ipython3",
   "version": "3.11.4"
  },
  "orig_nbformat": 4
 },
 "nbformat": 4,
 "nbformat_minor": 2
}
